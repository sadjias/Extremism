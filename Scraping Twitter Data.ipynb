{
 "cells": [
  {
   "cell_type": "code",
   "execution_count": null,
   "metadata": {},
   "outputs": [],
   "source": [
    "import json\n",
    "import csv\n",
    "import tweepy\n",
    "import re\n",
    "import pandas as pd\n",
    "import os, glob\n",
    "import plotly.express as px"
   ]
  },
  {
   "cell_type": "markdown",
   "metadata": {},
   "source": [
    "## Authentication "
   ]
  },
  {
   "cell_type": "code",
   "execution_count": null,
   "metadata": {},
   "outputs": [],
   "source": [
    "# keys\n",
    "consumer_key = 'PXLCJjdO4dcuW8v378ufCj3rC'\n",
    "consumer_secret = 'CJu1Njasd1E9yscWEJe8oWxYPFr2wDECSuMRc68cfMygRjrUUI'\n",
    "access_token = '1376138564321357826-Q5Cl52E7H8NC7Z7MbDBYYasnl156dR'\n",
    "access_token_secret = 'TbJcAAI2FwQyem8ccPq2i98y7pS1ovI4msUtVk88R94Lf'"
   ]
  },
  {
   "cell_type": "code",
   "execution_count": null,
   "metadata": {},
   "outputs": [],
   "source": [
    "# authorize twitter, initialize tweepy\n",
    "auth = tweepy.OAuthHandler(consumer_key, consumer_secret)\n",
    "auth.set_access_token(access_token, access_token_secret)\n",
    "api = tweepy.API(auth)\n",
    "\n",
    "try:\n",
    "    api.verify_credentials()\n",
    "    print(\"Authentication OK\")\n",
    "except:\n",
    "  print(\"Error during authentication\")"
   ]
  },
  {
   "cell_type": "markdown",
   "metadata": {},
   "source": [
    "# Datasets"
   ]
  },
  {
   "cell_type": "markdown",
   "metadata": {},
   "source": [
    "## Right-wing extremists"
   ]
  },
  {
   "cell_type": "code",
   "execution_count": null,
   "metadata": {},
   "outputs": [],
   "source": [
    "right_wing = ['CIS_org', 'DustinInmanSoc', 'FAIRImmigration', 'StolenLivesQLT', 'AZ_Patriots', 'Crowdifornia','helpsavemd', 'IRLILaw','OregonIR','proenglishUSA',\n",
    "              'ProtectRborders','AllianceDefends','ACPeds', 'AmericanFamAssc','AmericanVision','FridayFax','RJRushdoony','TXconcern','DJKMinistries','FRCdc',\n",
    "              'family_watch','ProFamilyIFI','libertycounsel','MassResistance','PacificJustice','ProbeMinistries','PublicFreedom','RuthInstitute','savecalifornia','StedfastK',\n",
    "              'StrongHoldBC','UFI','ProFamOrg','ACTforAmerica','AFAlliance','AFDINational','securefreedom','MartinMawyer','HorowitzCenter','GlobalFaithInst',\n",
    "              'patriots_last','PoliticalIslam','gpatriotradio','usamaway','Thomas_More_Law','worldnetdaily','HistoryinReview','codohoutreach','901Confederate','identitydixie1',\n",
    "              'nationvanguard','Dissentbooks','FolkAsatru','AsatruAFA','american_front','cathfamilynews','CultureWarsMag','fidelity_press','remnantnews','TraditionAction',\n",
    "              'AFParty1','Identify_Evropa','AntelopeHill','NewRightAmerica','KosChertified','NatReformation','UpdatesPF','PatriotFront8','RADIXJournal_','redicetv',\n",
    "              'TRSPodcasts','vdare','afpwebmaster','TheBarnesReview','RealistReport','ChickPub','JewishTaskForce','TonyAlamoMinist','TruNews', 'ALIPAC', \n",
    "              'rgarciaq', 'StephenM', 'MariaforAmerica', 'PeterLaBarbera', 'DrJamesDManning', 'sanderson1611', 'olivetree1569', 'tommymcmurtry2', 'realscottlively','pastortombrown', \n",
    "              'LivePrayer', 'ACTBrigitte', 'HogriderKafir', 'horowitz39', 'AmyMek', 'walidshoebat', 'TheUnitedWest', 'emperorInvictus', 'kylebristow', 'AprilintheNorth', \n",
    "              'RichardBSpencer', 'frankgaffney', 'GenBoykin', 'jihadwatchRS', 'RealJudgeMoore','christogenea', 'ABKreis3', 'bogritzUSA', 'ThomasRobb', 'drchuckbaldwin', \n",
    "              'Radomysisky', 'josephfarah', 'larryEKlayman', 'larrypratt', 'michaelboldin', 'IrvingBooks', 'rooshv', 'realCraigCobb', 'Gerhard_Lauck', 'kevin_a_strom', \n",
    "              'FrommPaul', 'KynanDutton', 'McnallenStephen', 'MattGaspers','ProfBMcCall', 'chesterdoles', 'TOOEdit', 'JamesEdwardsTPC', 'Church_Militant', 'johndenugentESA', \n",
    "              'ramzpaul', 'peterbrimelow', 'Tom_Sunic', 'TheMadDimension', 'JackPosobiec', 'Cernovich', 'NickJFuentes', 'Jeffrensei', 'DrAdrianHKrieg', 'BroNate1',\n",
    "              'realRickWiles', 'TexasNatMov', 'ThisIsTexasFF']\n"
   ]
  },
  {
   "cell_type": "markdown",
   "metadata": {},
   "source": [
    "## Left-wing extremists"
   ]
  },
  {
   "cell_type": "code",
   "execution_count": null,
   "metadata": {},
   "outputs": [],
   "source": [
    "left_wing = ['IronFrontUSA', 'AntifaUPNY', 'AKPressDistro', 'deantifa', 'ash_antifa', 'afainatl', 'berkeleyantifa', 'HubCityAntifa', 'antifa_ne', 'NYCAntifa', \n",
    "             'RWParlerWatch', 'AntifaSac_', 'OCHittman', 'OrlandoAntifa', 'RoseCityAntifa', 'RadNewsMedia', 'TorchAntifa', 'UR_Ninja', 'BlackMastAntifa', 'communistsusa', \n",
    "             'antifa_news1', 'ALFcyberbrigade', 'veganzx1', 'redneckrevolt', 'SDRedneckRevolt', 'northcountryRR', 'LakeRevolt', 'SteelCityJBGC', 'PugetSoundJBGC', 'MidmoJBGC', \n",
    "             'SPKJBGC', 'BlackRiders1996', 'TheBLKPanthers', 'BlckPanthersOrg', 'PantherPartyWA', 'BPP510', 'TheRevo53655449', 'IUICOfficial', '1WEST_ISUPK', 'TheOfficialGra3', \n",
    "             'TheBlackRevolu3', 'followbamn', 'SraSwva', 'CentralPasra', 'FirearmsWap', 'DerbycityJ', 'PNWYLF', 'seattleYLF', 'EugYLF', 'NYCYLF', \n",
    "             'sw_ylf', 'chicagoylf', 'fla_ylf', 'TENNYLF', 'MarylandYLF', 'BellinghamYlf', 'CNYYLF', 'HONOYLF', 'ClarkYlf', 'ClarkFront', \n",
    "             'SouthernYLF', 'IGD_News', 'norcalylf', 'CarolinaYlf', 'screwstonafc', 'utah161', 'Haleyville_ARA', 'discord__panic', 'MNUnitedAF', 'WANaziWatch', \n",
    "             'HollerNetwork', 'LBCAFA', 'ara_losangeles', 'JulezDelphiki', 'avlantiracism', 'NoNazisAtUF', 'StruggaloCircus', 'florida_afa', 'no_nazi_auburn', 'ohshit_atx', \n",
    "             'ElmCityAntifa', 'antifa_knox', 'STLAntiFa', 'NorthNjAntifa', 'CoosAntifa', 'ashevilleantifa', 'PNWAWC', 'IndianaAntifa', 'AntifaDFW', 'CentralPAAntifa', \n",
    "             'downtownlesbos', 'antifaintl', 'Unitedsknhead', 'COSAntiFascists', 'aLoveraFighter1', 'ClevelandAntifa', 'SnitchWatch', 'PNWAntifascist', 'trashpandaAFA', 'Antifagator', \n",
    "             'antifascist45', 'nfa_antifascist', 'days_unity', 'LAAB213', 'CampusAntifNet', 'AntifaCowRustlr', 'DentonLeft', 'macc_nyc', 'IAF__FAI', 'IowaSRA', \n",
    "             'maine_sra', 'SRA_Minnesota', 'NEAlabamaSra', 'PugetSoundSRA', 'ChicagoSra', 'NYC_SocialistRA', 'SraAntonio', 'northgasra', 'SRAKentucky', 'NEO_SRA', \n",
    "             'reno_sra', 'sactownSRA', 'AnchorageSRA', 'TriadNCSRA', 'ArkansasSRA', 'EastLA_SRA', 'SRA_DFW', 'ScSra', 'pdxsra', 'PittsburghSra', \n",
    "             'PhillySRA', 'SocialistRA', 'HoustonSRA', 'newhampshireSRA', 'SRANewMexico', 'Nebraska_SRA', 'SanDiegoSRA', 'srahotv', 'latinorifleorg', 'MestizoLeftist', \n",
    "             'N_IL_SRA', 'SocialistRAMKE', 'TallahasseeSRA', 'TucsonSRA', 'UtahSRA', 'montana_sra', 'CorpusSra', 'Anarchistsl', 'AntifaGarfield', 'Central_FL_SRA',\n",
    "             'FrontRangeSRA', 'PortlandSRA', 'iuicdenver', 'IUIC_Louisiana', 'IUICSEATTLE', 'IUICHawaii', 'IUICROCHESTER','IUICDetroit', 'IUICCorpus', 'IUIC_OHIO', \n",
    "             'iuic_kentucky', 'IUICMISSISSIPPI', 'IuicOrlando', 'IUIC_MIAMI', 'IUICNASHVILLE', 'IUICARKANSAS', 'IUICMEMPHIS', 'iuickansascity', 'iuicbirmingham', 'IUIC_Jville', \n",
    "             'IUICAtlantaCamp', 'iuicdallas', 'iuic_chicago', 'iuictallahassee', 'iuiclosangeles', 'iuicokc', 'Israelunitestl', 'IsupkN', 'IsupkG', 'IsupkB', \n",
    "             'isupkarizona', 'ISUPKDelaware2', 'IsupkHouston', 'IsupkOklahoma', 'IsupkAtlanta']\n"
   ]
  },
  {
   "cell_type": "markdown",
   "metadata": {},
   "source": [
    "## Non-extremists"
   ]
  },
  {
   "cell_type": "code",
   "execution_count": null,
   "metadata": {},
   "outputs": [],
   "source": [
    "non_extremists = ['SenWarren', 'KamalaHarris', 'CoryBooker', 'BernieSanders', 'maziehirono', 'EdMarkey', 'SenatorBaldwin', 'SenGillibrand', 'brianschatz', 'SenJeffMerkley', \n",
    "                  'PattyMurray', 'SenatorDurbin', 'SenStabenow', 'SenDuckworth', 'RonWyden', 'MartinHeinrich', 'SenatorCardin', 'SenBobCasey', 'SenatorCantwell', 'SenatorShaheen', \n",
    "                  'SenatorHassan', 'ChrisCoons', 'SenatorBennet', 'SenatorTester', 'MarkWarner', 'CaptMarkKelly', 'SenatorCarper', 'SenAngusKing', 'kyrstensinema', 'Sen_JoeManchin', \n",
    "                  'SenatorCollins', 'lisamurkowski', 'SenCapito', 'MittRomney', 'ChuckGrassley', 'SenJohnHoeven', 'senrobportman', 'SenatorWicker', 'SenKevinCramer', 'cindyhydesmith',\n",
    "                  'SenJoniErnst', 'RogerMarshallMD', 'SenJohnBarrasso', 'JimInhofe', 'KLoeffler', 'SteveDaines', 'marcorubio', 'SenatorLankford', 'SenTomCotton', 'SenJohnKennedy', \n",
    "                 ]\n",
    "len(non_extremists)"
   ]
  },
  {
   "cell_type": "code",
   "execution_count": null,
   "metadata": {},
   "outputs": [],
   "source": [
    "non_extremists = ['SenToomey', 'HawleyMO', 'SenLummis', 'SenSasse', 'BillHagertyTN', 'SenatorBraun', 'SenTedCruz', 'RandPaul', 'SenMikeLee', 'TTuberville',\n",
    "                 'taylorswift13', 'elonmusk', 'katyperry', 'ArianaGrande', 'BarackObama', 'BillGates', 'TheEllenShow', 'KimKardashian', 'ladygaga', 'JLo', \n",
    "                  'HillaryClinton', 'justinbieber', 'jtimberlake', 'KingJames', 'Eminem', 'MileyCyrus', 'Oprah', 'maddow', 'rihanna', 'seanhannity', \n",
    "                  'selenagomez', 'shakira', 'theweeknd', 'jimmyfallon', 'kanyewest', 'mariahcarey', 'ddlovato', 'AOC', 'Alyssa_Milano', 'AvrilLavigne', \n",
    "                  'chrisbrown', 'ConanOBrien', 'drake', 'TheRock', 'IGGYAZALEA', 'KevinHart4real', 'LeoDiCaprio', 'Pink', 'MichelleObama', 'Beyonce']\n",
    "len(non_extremists)"
   ]
  },
  {
   "cell_type": "markdown",
   "metadata": {},
   "source": [
    "## Create csv files"
   ]
  },
  {
   "cell_type": "code",
   "execution_count": null,
   "metadata": {},
   "outputs": [],
   "source": [
    "# tweets from specific persons\n",
    "# code from: https://gist.github.com/yanofsky/5436496\n",
    "\n",
    "def get_all_tweets(screen_name):\n",
    "    #Twitter only allows access to a users most recent 3240 tweets with this method\n",
    "    \n",
    "    #authorize twitter, initialize tweepy\n",
    "    auth = tweepy.OAuthHandler(consumer_key, consumer_secret)\n",
    "    auth.set_access_token(access_token, access_token_secret)\n",
    "    api = tweepy.API(auth)\n",
    "    \n",
    "    #initialize a list to hold all the tweepy Tweets\n",
    "    alltweets = []  \n",
    "    \n",
    "    #make initial request for most recent tweets\n",
    "    new_tweets = api.user_timeline(screen_name = screen_name, count=5000, tweet_mode='extended')\n",
    "    \n",
    "    \n",
    "    #save most recent tweets\n",
    "    alltweets.extend(new_tweets)\n",
    "    \n",
    "    #save the id of the oldest tweet less one\n",
    "    oldest = alltweets[-1].id - 1\n",
    "    \n",
    "    #keep grabbing tweets until there are no tweets left to grab\n",
    "    while len(new_tweets) > 0:\n",
    "        print(f\"getting tweets before {oldest}\")\n",
    "        \n",
    "        #all subsiquent requests use the max_id param to prevent duplicates\n",
    "        new_tweets = api.user_timeline(screen_name = screen_name, count=5000, tweet_mode='extended', max_id=oldest)\n",
    "        \n",
    "        #save most recent tweets\n",
    "        alltweets.extend(new_tweets)\n",
    "        \n",
    "        #update the id of the oldest tweet less one\n",
    "        oldest = alltweets[-1].id - 1\n",
    "        \n",
    "        print(f\"...{len(alltweets)} tweets downloaded so far\")\n",
    "    \n",
    "    #transform the tweepy tweets into a 2D array that will populate the csv \n",
    "    outtweets = [[tweet.id_str, tweet.user.screen_name, tweet.created_at, tweet.user.description, \n",
    "                  tweet.full_text.encode(\"utf-8\"),\n",
    "                  tweet.retweet_count, tweet.favorite_count, tweet.lang] \n",
    "                 for tweet in alltweets]\n",
    "    \n",
    "    #write the csv  \n",
    "    with open(f'data/{screen_name}_tweets.csv', 'wt', encoding=\"utf8\") as f:\n",
    "        writer = csv.writer(f)\n",
    "        writer.writerow([\"id\", \"user.screen_name\", \"created_at\", \"user.description\",\n",
    "                         \"text\",\"retweet_count\", \"favorite_count\", \"lang\"])\n",
    "        writer.writerows(outtweets)\n",
    "    \n",
    "    pass\n",
    "\n",
    "if __name__ == '__main__':\n",
    "    #pass in the username of the account you want to download\n",
    "    for name in non_extremists:\n",
    "        get_all_tweets(name)"
   ]
  },
  {
   "cell_type": "markdown",
   "metadata": {},
   "source": [
    "## Left dataframe"
   ]
  },
  {
   "cell_type": "code",
   "execution_count": null,
   "metadata": {},
   "outputs": [],
   "source": [
    "### left wing extremists\n",
    "path = \"data/leftwing\"\n",
    "\n",
    "all_files_left = glob.glob(os.path.join(path, \"*.csv\"))\n",
    "#print(len(all_files_left))\n",
    "\n",
    "# combine all files\n",
    "combined_left = pd.concat([pd.read_csv(f, header=0) for f in all_files_left]) \n",
    "combined_left[\"label\"] = \"LWE\"\n",
    "combined_left.to_pickle(\"all_left_extremists.pkl\")\n"
   ]
  },
  {
   "cell_type": "code",
   "execution_count": null,
   "metadata": {},
   "outputs": [],
   "source": [
    "# read df_left to pkl\n",
    "df_left = pd.read_pickle(\"all_left_extremists.pkl\") # 302767x13\n",
    "df_left.shape\n",
    "\n",
    "# # show csv\n",
    "# df_left.to_csv(\"all_left_extremists.csv\") # 298226x12\n",
    "# df_left_csv = pd.read_csv(\"all_left_extremists.csv\")\n",
    "# df_left_csv.shape\n"
   ]
  },
  {
   "cell_type": "markdown",
   "metadata": {},
   "source": [
    "### Users"
   ]
  },
  {
   "cell_type": "code",
   "execution_count": null,
   "metadata": {},
   "outputs": [],
   "source": [
    "df_left['user.screen_name'].nunique()"
   ]
  },
  {
   "cell_type": "markdown",
   "metadata": {},
   "source": [
    "## Right dataframe"
   ]
  },
  {
   "cell_type": "code",
   "execution_count": null,
   "metadata": {},
   "outputs": [],
   "source": [
    "## right wing extremists\n",
    "\n",
    "path = \"data/rightwing\"\n",
    "all_files_right = glob.glob(os.path.join(path, \"*.csv\"))\n",
    "#print(len(all_files_right))\n",
    "\n",
    "# combine all files\n",
    "combined_right = pd.concat([pd.read_csv(f, header=0) for f in all_files_right])\n",
    "combined_right[\"label\"] = \"RWE\"\n",
    "combined_right.to_pickle(\"all_right_extremists.pkl\")\n"
   ]
  },
  {
   "cell_type": "code",
   "execution_count": null,
   "metadata": {},
   "outputs": [],
   "source": [
    "# read df_right\n",
    "df_right = pd.read_pickle(\"all_right_extremists.pkl\") # 293060x9\n",
    "df_right.shape\n",
    "\n",
    "# combined_right.to_csv(\"all_right_extremists.csv\")\n",
    "\n",
    "# # show csv\n",
    "# df_right.to_csv(\"all_right_extremists.csv\") # 298226x12\n",
    "# df_right_csv = pd.read_csv(\"all_right_extremists.csv\")\n",
    "# df_right_csv.shape\n"
   ]
  },
  {
   "cell_type": "markdown",
   "metadata": {},
   "source": [
    "### Users"
   ]
  },
  {
   "cell_type": "code",
   "execution_count": null,
   "metadata": {},
   "outputs": [],
   "source": [
    "df_right['user.screen_name'].nunique()"
   ]
  },
  {
   "cell_type": "markdown",
   "metadata": {},
   "source": [
    "## Non-extremist Dataframe"
   ]
  },
  {
   "cell_type": "code",
   "execution_count": null,
   "metadata": {},
   "outputs": [],
   "source": [
    "## non-extremist \n",
    "\n",
    "path = \"data/nonextremists\"\n",
    "all_files_nonex = glob.glob(os.path.join(path, \"*.csv\"))\n",
    "#print(len(all_files_nonex))\n",
    "\n",
    "# combine all files\n",
    "combined_nonex = pd.concat([pd.read_csv(f, header=0) for f in all_files_nonex])\n",
    "combined_nonex[\"label\"] = \"NE\"\n",
    "combined_nonex.to_pickle(\"non_extremists.pkl\")\n"
   ]
  },
  {
   "cell_type": "code",
   "execution_count": null,
   "metadata": {},
   "outputs": [],
   "source": [
    "# read df_right\n",
    "df_nonex = pd.read_pickle(\"non_extremists.pkl\") # 295444\n",
    "df_nonex.shape\n",
    "\n",
    "# # show csv\n",
    "# df_nonex.to_csv(\"non_extremists.csv\") # 314271x13\n",
    "# df_nonex_csv = pd.read_csv(\"non_extremists.csv\")\n",
    "# #df_nonex_csv.shape\n"
   ]
  },
  {
   "cell_type": "code",
   "execution_count": null,
   "metadata": {},
   "outputs": [],
   "source": [
    "df_nonex.head()"
   ]
  },
  {
   "cell_type": "code",
   "execution_count": null,
   "metadata": {},
   "outputs": [],
   "source": [
    "df_nonex['user.screen_name'].nunique() # 295041"
   ]
  },
  {
   "cell_type": "markdown",
   "metadata": {},
   "source": [
    "## Both extremists"
   ]
  },
  {
   "cell_type": "code",
   "execution_count": null,
   "metadata": {},
   "outputs": [],
   "source": [
    "# extremists = pd.concat([df_left, df_right]).reset_index(drop=True) # 586334, 12\n",
    "# extremists.to_pickle(\"all_extremists.pkl\")\n",
    "# df_extremists = pd.read_pickle(\"all_extremists.pkl\") \n",
    "# df_extremists.head()\n",
    "\n",
    "# # create dataframe of both right-wing and left-wing extremists\n",
    "# extremists = extremists.to_csv(\"all_extremists.csv\")"
   ]
  },
  {
   "cell_type": "code",
   "execution_count": null,
   "metadata": {},
   "outputs": [],
   "source": [
    "# df_extremists = pd.read_csv(\"all_extremists.csv\")\n",
    "# df_extremists = df_extremists.drop(['Unnamed: 0'], axis = 1)\n",
    "# df_extremists # 586334x12"
   ]
  },
  {
   "cell_type": "code",
   "execution_count": null,
   "metadata": {},
   "outputs": [],
   "source": [
    "extremists = pd.concat([df_left, df_right, df_nonex]).reset_index(drop=True) \n",
    "extremists.to_pickle(\"all_extremists.pkl\")\n",
    "df_extremists = pd.read_pickle(\"all_extremists.pkl\") \n",
    "df_extremists # 891271\n",
    "\n",
    "# create dataframe of both right-wing and left-wing extremists\n",
    "# extremists = extremists.to_csv(\"all_extremists.csv\")\n",
    "\n",
    "# df_extremists = pd.read_csv(\"all_extremists.csv\")\n",
    "# df_extremists = df_extremists.drop(['Unnamed: 0'], axis = 1)\n",
    "# df_extremists "
   ]
  },
  {
   "cell_type": "code",
   "execution_count": null,
   "metadata": {},
   "outputs": [],
   "source": [
    "df_extremists.groupby(['label'])['user.screen_name'].nunique()"
   ]
  },
  {
   "cell_type": "code",
   "execution_count": null,
   "metadata": {},
   "outputs": [],
   "source": [
    "df_extremists.groupby(['label'])['text'].nunique() # 866515 tweets in total"
   ]
  },
  {
   "cell_type": "code",
   "execution_count": null,
   "metadata": {},
   "outputs": [],
   "source": [
    "tweets = df_extremists.groupby('label')['text'].nunique().to_frame(name='count')\n",
    "tweets['percentage'] = ((tweets['count'] / tweets['count'].sum()) * 100).round(1)\n",
    "print(tweets)\n",
    "\n",
    "fig = px.bar(tweets, y = \"count\", text=\"percentage\", labels=dict(label=\"Extremist groups\", count=\"\"))\n",
    "fig.update_layout(title=\"Percentage of tweets per group\", title_x= 0.5, showlegend=False)\n",
    "fig.show()"
   ]
  },
  {
   "cell_type": "markdown",
   "metadata": {},
   "source": [
    "### Users"
   ]
  },
  {
   "cell_type": "code",
   "execution_count": null,
   "metadata": {},
   "outputs": [],
   "source": [
    "df_extremists['user.screen_name'].nunique()"
   ]
  }
 ],
 "metadata": {
  "kernelspec": {
   "display_name": "Python 3",
   "language": "python",
   "name": "python3"
  },
  "language_info": {
   "codemirror_mode": {
    "name": "ipython",
    "version": 3
   },
   "file_extension": ".py",
   "mimetype": "text/x-python",
   "name": "python",
   "nbconvert_exporter": "python",
   "pygments_lexer": "ipython3",
   "version": "3.9.2"
  }
 },
 "nbformat": 4,
 "nbformat_minor": 2
}
